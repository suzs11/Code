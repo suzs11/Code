{
 "cells": [
  {
   "cell_type": "code",
   "execution_count": 5,
   "id": "009f8e56",
   "metadata": {},
   "outputs": [
    {
     "ename": "KeyboardInterrupt",
     "evalue": "",
     "output_type": "error",
     "traceback": [
      "\u001b[1;31m---------------------------------------------------------------------------\u001b[0m",
      "\u001b[1;31mKeyboardInterrupt\u001b[0m                         Traceback (most recent call last)",
      "\u001b[1;32m~\\AppData\\Local\\Temp/ipykernel_18256/2775973840.py\u001b[0m in \u001b[0;36m<module>\u001b[1;34m\u001b[0m\n\u001b[0;32m     70\u001b[0m         \u001b[0mplt\u001b[0m\u001b[1;33m.\u001b[0m\u001b[0mfigure\u001b[0m\u001b[1;33m(\u001b[0m\u001b[0mnum\u001b[0m\u001b[1;33m=\u001b[0m\u001b[1;32mNone\u001b[0m\u001b[1;33m,\u001b[0m \u001b[0mfigsize\u001b[0m\u001b[1;33m=\u001b[0m\u001b[1;33m(\u001b[0m\u001b[1;36m8\u001b[0m\u001b[1;33m,\u001b[0m\u001b[1;36m8\u001b[0m\u001b[1;33m)\u001b[0m\u001b[1;33m)\u001b[0m\u001b[1;33m\u001b[0m\u001b[1;33m\u001b[0m\u001b[0m\n\u001b[0;32m     71\u001b[0m         \u001b[0mplt\u001b[0m\u001b[1;33m.\u001b[0m\u001b[0msubplots_adjust\u001b[0m\u001b[1;33m(\u001b[0m\u001b[0mtop\u001b[0m\u001b[1;33m=\u001b[0m\u001b[1;36m1\u001b[0m\u001b[1;33m,\u001b[0m \u001b[0mbottom\u001b[0m\u001b[1;33m=\u001b[0m\u001b[1;36m0\u001b[0m\u001b[1;33m,\u001b[0m \u001b[0mleft\u001b[0m\u001b[1;33m=\u001b[0m\u001b[1;36m0\u001b[0m\u001b[1;33m,\u001b[0m \u001b[0mright\u001b[0m\u001b[1;33m=\u001b[0m\u001b[1;36m1\u001b[0m\u001b[1;33m,\u001b[0m \u001b[0mhspace\u001b[0m\u001b[1;33m=\u001b[0m\u001b[1;36m0\u001b[0m\u001b[1;33m,\u001b[0m \u001b[0mwspace\u001b[0m\u001b[1;33m=\u001b[0m\u001b[1;36m0\u001b[0m\u001b[1;33m)\u001b[0m\u001b[1;33m\u001b[0m\u001b[1;33m\u001b[0m\u001b[0m\n\u001b[1;32m---> 72\u001b[1;33m         \u001b[0mplt\u001b[0m\u001b[1;33m.\u001b[0m\u001b[0mimshow\u001b[0m\u001b[1;33m(\u001b[0m\u001b[0mdistance_matrix\u001b[0m\u001b[1;33m(\u001b[0m\u001b[0mX\u001b[0m\u001b[1;33m,\u001b[0m \u001b[0mdimension\u001b[0m\u001b[1;33m,\u001b[0m \u001b[0mdelay\u001b[0m\u001b[1;33m,\u001b[0m \u001b[0mnorm\u001b[0m\u001b[1;33m)\u001b[0m\u001b[1;33m,\u001b[0m\u001b[0mcmap\u001b[0m \u001b[1;33m=\u001b[0m \u001b[1;34m'binary'\u001b[0m\u001b[1;33m,\u001b[0m \u001b[0morigin\u001b[0m\u001b[1;33m=\u001b[0m\u001b[1;34m'lower'\u001b[0m\u001b[1;33m)\u001b[0m\u001b[1;33m\u001b[0m\u001b[1;33m\u001b[0m\u001b[0m\n\u001b[0m\u001b[0;32m     73\u001b[0m         \u001b[0mplt\u001b[0m\u001b[1;33m.\u001b[0m\u001b[0mtitle\u001b[0m\u001b[1;33m(\u001b[0m\u001b[1;34m'A'\u001b[0m\u001b[1;33m,\u001b[0m \u001b[0mfontsize\u001b[0m\u001b[1;33m=\u001b[0m\u001b[1;36m20\u001b[0m\u001b[1;33m,\u001b[0m \u001b[0mloc\u001b[0m\u001b[1;33m=\u001b[0m\u001b[1;34m'left'\u001b[0m\u001b[1;33m)\u001b[0m\u001b[1;33m\u001b[0m\u001b[1;33m\u001b[0m\u001b[0m\n\u001b[0;32m     74\u001b[0m         \u001b[0mplt\u001b[0m\u001b[1;33m.\u001b[0m\u001b[0mxlabel\u001b[0m\u001b[1;33m(\u001b[0m\u001b[1;34m'i'\u001b[0m\u001b[1;33m,\u001b[0m \u001b[0mfontsize\u001b[0m\u001b[1;33m=\u001b[0m\u001b[1;36m14\u001b[0m\u001b[1;33m)\u001b[0m\u001b[1;33m\u001b[0m\u001b[1;33m\u001b[0m\u001b[0m\n",
      "\u001b[1;32m~\\AppData\\Local\\Temp/ipykernel_18256/2775973840.py\u001b[0m in \u001b[0;36mdistance_matrix\u001b[1;34m(data, dimension, delay, norm)\u001b[0m\n\u001b[0;32m     25\u001b[0m                 \u001b[0mtemp\u001b[0m \u001b[1;33m=\u001b[0m \u001b[1;36m0.0\u001b[0m\u001b[1;33m\u001b[0m\u001b[1;33m\u001b[0m\u001b[0m\n\u001b[0;32m     26\u001b[0m                 \u001b[1;32mfor\u001b[0m \u001b[0mk\u001b[0m \u001b[1;32min\u001b[0m \u001b[0mrange\u001b[0m\u001b[1;33m(\u001b[0m\u001b[0mdimension\u001b[0m\u001b[1;33m)\u001b[0m\u001b[1;33m:\u001b[0m\u001b[1;33m\u001b[0m\u001b[1;33m\u001b[0m\u001b[0m\n\u001b[1;32m---> 27\u001b[1;33m                     \u001b[0mtemp\u001b[0m \u001b[1;33m+=\u001b[0m \u001b[0mnp\u001b[0m\u001b[1;33m.\u001b[0m\u001b[0mabs\u001b[0m\u001b[1;33m(\u001b[0m\u001b[0mdata\u001b[0m\u001b[1;33m[\u001b[0m\u001b[0mi\u001b[0m\u001b[1;33m+\u001b[0m\u001b[0mk\u001b[0m\u001b[1;33m*\u001b[0m\u001b[0mdelay\u001b[0m\u001b[1;33m]\u001b[0m \u001b[1;33m-\u001b[0m \u001b[0mdata\u001b[0m\u001b[1;33m[\u001b[0m\u001b[0mj\u001b[0m\u001b[1;33m+\u001b[0m\u001b[0mk\u001b[0m\u001b[1;33m*\u001b[0m\u001b[0mdelay\u001b[0m\u001b[1;33m]\u001b[0m\u001b[1;33m)\u001b[0m\u001b[1;33m\u001b[0m\u001b[1;33m\u001b[0m\u001b[0m\n\u001b[0m\u001b[0;32m     28\u001b[0m                 \u001b[0mdistance_matrix\u001b[0m\u001b[1;33m[\u001b[0m\u001b[0mi\u001b[0m\u001b[1;33m,\u001b[0m\u001b[0mj\u001b[0m\u001b[1;33m]\u001b[0m \u001b[1;33m=\u001b[0m \u001b[0mdistance_matrix\u001b[0m\u001b[1;33m[\u001b[0m\u001b[0mj\u001b[0m\u001b[1;33m,\u001b[0m\u001b[0mi\u001b[0m\u001b[1;33m]\u001b[0m \u001b[1;33m=\u001b[0m \u001b[0mtemp\u001b[0m\u001b[1;33m\u001b[0m\u001b[1;33m\u001b[0m\u001b[0m\n\u001b[0;32m     29\u001b[0m     \u001b[1;32melif\u001b[0m \u001b[0mnorm\u001b[0m \u001b[1;33m==\u001b[0m \u001b[1;34m'euclidean'\u001b[0m\u001b[1;33m:\u001b[0m\u001b[1;33m\u001b[0m\u001b[1;33m\u001b[0m\u001b[0m\n",
      "\u001b[1;31mKeyboardInterrupt\u001b[0m: "
     ]
    },
    {
     "data": {
      "text/plain": [
       "<Figure size 576x576 with 0 Axes>"
      ]
     },
     "metadata": {},
     "output_type": "display_data"
    }
   ],
   "source": [
    "import numpy as np\n",
    "import matplotlib.pyplot as plt\n",
    "from pyts.image import RecurrencePlot\n",
    "from scipy.spatial.distance import pdist, squareform\n",
    "import matplotlib.ticker as ticker\n",
    "import numpy as np\n",
    "import pandas as pd\n",
    "\n",
    "from Logistic_t import logistic_\n",
    "from scipy.fftpack import fft\n",
    "\n",
    "##    help function      ##\n",
    "\n",
    "#x_norm=np.linalg.norm(x, ord=None, axis=None, keepdims=False)\n",
    "\n",
    "def moving_average(s, r=5):\n",
    "    return np.convolve(s, np.ones((r,))/r, mode='valid')\n",
    "\n",
    "def distance_matrix(data, dimension, delay, norm):\n",
    "    N = int(len(data) - (dimension-1) * delay)\n",
    "    distance_matrix = np.zeros((N, N), dtype=\"float32\")\n",
    "    if norm == 'manhattan':\n",
    "        for i in range(N):\n",
    "            for j in range(i, N, 1):\n",
    "                temp = 0.0\n",
    "                for k in range(dimension):\n",
    "                    temp += np.abs(data[i+k*delay] - data[j+k*delay])\n",
    "                distance_matrix[i,j] = distance_matrix[j,i] = temp\n",
    "    elif norm == 'euclidean':\n",
    "        for i in range(N):\n",
    "            for j in range(i, N, 1):\n",
    "                temp = 0.0\n",
    "                for k in range(dimension):\n",
    "                    temp += np.power(data[i+k*delay] - data[j+k*delay], 2)\n",
    "                distance_matrix[i,j] = distance_matrix[j,i] = np.sqrt(temp)\n",
    "    elif norm == 'supremum':\n",
    "        temp = np.zeros(dimension)\n",
    "        for i in range(N):\n",
    "            for j in range(i, N, 1):\n",
    "                for k in range(dimension):\n",
    "                    temp[k] = np.abs(data[i+k*delay] - data[j+k*delay])\n",
    "                distance_matrix[i,j] = distance_matrix[j,i] = np.max(temp)\n",
    "    return distance_matrix\n",
    "\n",
    "def recurrence_matrix(data, dimension, delay, threshold, norm):\n",
    "    recurrence_matrix = distance_matrix(data, dimension, delay, norm)\n",
    "    N = len(recurrence_matrix[:,0])\n",
    "    for i in range(N):\n",
    "        for j in range(i, N, 1):\n",
    "            if recurrence_matrix[i,j] <= threshold:\n",
    "                recurrence_matrix[i,j] = recurrence_matrix[j,i] = 1\n",
    "            else:\n",
    "                recurrence_matrix[i,j] = recurrence_matrix[j,i] = 0\n",
    "    return recurrence_matrix.astype(int)\n",
    "\n",
    "\n",
    "if __name__==\"__main__\":\n",
    "    data = pd.read_csv('Dataset/train/LargeTrain.csv')\n",
    "    data1 = data.iloc[:,1:].values\n",
    "    result = data1.astype(np.float32)\n",
    "    for i in range(result.shape[0]):\n",
    "        #result = result[:500]\n",
    "        eps, steps = 1.0, 3\n",
    "        X = np.asarray(result[i,:1806])\n",
    "        dimension, delay, threshold, norm = 3, 2, 0.7, \"manhattan\"\n",
    "        #distance_matrix = distance_matrix(X, dimension, delay, norm)\n",
    "        #recurrence_matrix = recurrence_matrix(X, dimension, delay, threshold, norm)\n",
    "        #LIN = len(distance_matrix[:,0])\n",
    "\n",
    "        plt.figure(num=None, figsize=(8,8))\n",
    "        plt.subplots_adjust(top=1, bottom=0, left=0, right=1, hspace=0, wspace=0)\n",
    "        plt.imshow(distance_matrix(X, dimension, delay, norm),cmap = 'binary', origin='lower')\n",
    "        plt.title('A', fontsize=20, loc='left')\n",
    "        plt.xlabel('i', fontsize=14)\n",
    "        plt.ylabel('j', fontsize=14)\n",
    "        #plt.colorbar(fraction=0.046, pad=0.04)\n",
    "        #cbar = plt.colorbar(fraction=0.046, pad=0.04, ticks=[0.25,0.75])\n",
    "        #cbar.ax.set_yticklabels(['0', '1'])\n",
    "\n",
    "        #plt.savefig(r'./pic_l/logistic_'+str(mu_)+'.png',dpi=7)\n",
    "        plt.savefig(r'./pic_mal/malware_'+str(i)+'.png',dpi=8)\n",
    "\n",
    "        plt.close()\n",
    "        plt.show()"
   ]
  }
 ],
 "metadata": {
  "kernelspec": {
   "display_name": "Python 3 (ipykernel)",
   "language": "python",
   "name": "python3"
  },
  "language_info": {
   "codemirror_mode": {
    "name": "ipython",
    "version": 3
   },
   "file_extension": ".py",
   "mimetype": "text/x-python",
   "name": "python",
   "nbconvert_exporter": "python",
   "pygments_lexer": "ipython3",
   "version": "3.8.8rc1"
  }
 },
 "nbformat": 4,
 "nbformat_minor": 5
}
